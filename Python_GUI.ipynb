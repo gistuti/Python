{
 "cells": [
  {
   "cell_type": "code",
   "execution_count": 15,
   "metadata": {},
   "outputs": [],
   "source": [
    "from tkinter import *\n",
    "wind=Tk()\n",
    "wind.title(\"Welcome to Istuti Gupta GUI\")\n",
    "wind.geometry(\"66x44\")\n",
    "btn=Button()\n",
    "btn.pack()\n",
    "btn[\"text\"]=\"Hello everyone\"\n",
    "wind.mainloop()"
   ]
  },
  ![welcome to gui](https://user-images.githubusercontent.com/63596252/85286125-ae041100-b4af-11ea-807c-96424f69898e.png)
  {
   "cell_type": "code",
   "execution_count": 18,
   "metadata": {},
   "outputs": [],
   "source": [
    "#digitalclock\n",
    "\n",
    "import time\n",
    "import tkinter as tk\n",
    "def digclock(t1=''):\n",
    "    t2=time.strftime('%H:%M:%S')\n",
    "    if t1 != t2:\n",
    "        t1 = t2\n",
    "        clock.config(text=t2)\n",
    "\n",
    "    clock.after(300,digclock)\n",
    "wind = tk.Tk()\n",
    "clock = tk.Label(wind, font=('calibri',12, 'bold'),bg='blue')\n",
    "wind.title(\"Welcome to Istuti Gupta Digital Clock\")\n",
    "clock.pack()\n",
    "digclock()\n",
    "wind.mainloop()\n"
   ]
  },
  {
   "cell_type": "code",
   "execution_count": null,
   "metadata": {},
   "outputs": [],
   "source": []
  }
 ],
 "metadata": {
  "kernelspec": {
   "display_name": "Python 3",
   "language": "python",
   "name": "python3"
  },
  "language_info": {
   "codemirror_mode": {
    "name": "ipython",
    "version": 3
   },
   "file_extension": ".py",
   "mimetype": "text/x-python",
   "name": "python",
   "nbconvert_exporter": "python",
   "pygments_lexer": "ipython3",
   "version": "3.7.6"
  }
 },
 "nbformat": 4,
 "nbformat_minor": 4
}
